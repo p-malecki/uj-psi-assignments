{
 "cells": [
  {
   "cell_type": "markdown",
   "metadata": {
    "collapsed": true,
    "jupyter": {
     "outputs_hidden": true
    }
   },
   "source": [
    "# Regresja"
   ]
  },
  {
   "cell_type": "code",
   "execution_count": 3,
   "metadata": {},
   "outputs": [],
   "source": [
    "import numpy as np\n",
    "import matplotlib.pyplot as plt\n",
    "from sklearn import datasets\n",
    "from sklearn.model_selection import cross_val_predict\n",
    "from sklearn import linear_model\n",
    "import matplotlib.pyplot as plt\n",
    "import pandas as pd"
   ]
  },
  {
   "cell_type": "markdown",
   "metadata": {},
   "source": [
    "Rozważmy zbiór Boston"
   ]
  },
  {
   "cell_type": "code",
   "execution_count": 4,
   "metadata": {},
   "outputs": [
    {
     "name": "stderr",
     "output_type": "stream",
     "text": [
      "<>:2: SyntaxWarning: invalid escape sequence '\\s'\n",
      "<>:2: SyntaxWarning: invalid escape sequence '\\s'\n",
      "/var/folders/8k/17n3bt8s75s_lypxx_4nz_040000gn/T/ipykernel_78405/2520991611.py:2: SyntaxWarning: invalid escape sequence '\\s'\n",
      "  boston = pd.read_csv(data_url, sep=\"\\s+\", skiprows=22, header=None)\n"
     ]
    }
   ],
   "source": [
    "data_url = \"http://lib.stat.cmu.edu/datasets/boston\"\n",
    "boston = pd.read_csv(data_url, sep=\"\\s+\", skiprows=22, header=None)"
   ]
  },
  {
   "cell_type": "code",
   "execution_count": 20,
   "metadata": {},
   "outputs": [],
   "source": [
    "# get the data\n",
    "boston_X = np.hstack([boston.values[::2, :], boston.values[1::2, :2]])\n",
    "boston_Y = boston.values[1::2, 2]"
   ]
  },
  {
   "cell_type": "markdown",
   "metadata": {},
   "source": [
    "Podzielmy zbiór na część testową i treningową ."
   ]
  },
  {
   "cell_type": "code",
   "execution_count": 21,
   "metadata": {},
   "outputs": [],
   "source": [
    "# Split the data into training/testing sets\n",
    "boston_X_train = boston_X[:-50]\n",
    "boston_X_test = boston_X[-50:]\n",
    " \n",
    "# Split the targets into training/testing sets\n",
    "boston_y_train = boston_Y[:-50]\n",
    "boston_y_test = boston_Y[-50:]"
   ]
  },
  {
   "cell_type": "code",
   "execution_count": 24,
   "metadata": {},
   "outputs": [],
   "source": [
    "X=boston_X_train\n",
    "y=boston_y_train"
   ]
  },
  {
   "cell_type": "markdown",
   "metadata": {},
   "source": [
    "# Zadanie\n",
    "Znajdż najleprzy model dzieląc na zbiór testowy i terningowy.\n"
   ]
  },
  {
   "cell_type": "code",
   "execution_count": 25,
   "metadata": {},
   "outputs": [],
   "source": [
    "from sklearn.model_selection import GridSearchCV\n",
    "from sklearn import linear_model\n",
    "from sklearn.preprocessing import PolynomialFeatures\n",
    "from sklearn.linear_model import Ridge\n",
    "from sklearn.linear_model import Lasso\n",
    "from sklearn.linear_model import ElasticNet\n",
    "from sklearn.pipeline import make_pipeline\n",
    "from sklearn import model_selection\n",
    "\n",
    "seed=123\n",
    "kfold = model_selection.KFold(n_splits=5, shuffle=True, random_state=seed)\n"
   ]
  },
  {
   "cell_type": "code",
   "execution_count": 26,
   "metadata": {},
   "outputs": [
    {
     "name": "stderr",
     "output_type": "stream",
     "text": [
      "/opt/miniconda3/envs/env1/lib/python3.12/site-packages/sklearn/linear_model/_coordinate_descent.py:628: ConvergenceWarning: Objective did not converge. You might want to increase the number of iterations, check the scale of the features or consider increasing regularisation. Duality gap: 1.470e+03, tolerance: 3.424e+00\n",
      "  model = cd_fast.enet_coordinate_descent(\n",
      "/opt/miniconda3/envs/env1/lib/python3.12/site-packages/sklearn/linear_model/_coordinate_descent.py:628: ConvergenceWarning: Objective did not converge. You might want to increase the number of iterations, check the scale of the features or consider increasing regularisation. Duality gap: 1.296e+03, tolerance: 3.142e+00\n",
      "  model = cd_fast.enet_coordinate_descent(\n",
      "/opt/miniconda3/envs/env1/lib/python3.12/site-packages/sklearn/linear_model/_coordinate_descent.py:628: ConvergenceWarning: Objective did not converge. You might want to increase the number of iterations, check the scale of the features or consider increasing regularisation. Duality gap: 1.315e+03, tolerance: 3.079e+00\n",
      "  model = cd_fast.enet_coordinate_descent(\n",
      "/opt/miniconda3/envs/env1/lib/python3.12/site-packages/sklearn/linear_model/_coordinate_descent.py:628: ConvergenceWarning: Objective did not converge. You might want to increase the number of iterations, check the scale of the features or consider increasing regularisation. Duality gap: 1.406e+03, tolerance: 3.463e+00\n",
      "  model = cd_fast.enet_coordinate_descent(\n",
      "/opt/miniconda3/envs/env1/lib/python3.12/site-packages/sklearn/linear_model/_coordinate_descent.py:628: ConvergenceWarning: Objective did not converge. You might want to increase the number of iterations, check the scale of the features or consider increasing regularisation. Duality gap: 1.201e+03, tolerance: 3.281e+00\n",
      "  model = cd_fast.enet_coordinate_descent(\n",
      "/opt/miniconda3/envs/env1/lib/python3.12/site-packages/sklearn/linear_model/_coordinate_descent.py:628: ConvergenceWarning: Objective did not converge. You might want to increase the number of iterations, check the scale of the features or consider increasing regularisation. Duality gap: 6.444e+02, tolerance: 3.424e+00\n",
      "  model = cd_fast.enet_coordinate_descent(\n",
      "/opt/miniconda3/envs/env1/lib/python3.12/site-packages/sklearn/linear_model/_coordinate_descent.py:628: ConvergenceWarning: Objective did not converge. You might want to increase the number of iterations, check the scale of the features or consider increasing regularisation. Duality gap: 5.832e+02, tolerance: 3.142e+00\n",
      "  model = cd_fast.enet_coordinate_descent(\n",
      "/opt/miniconda3/envs/env1/lib/python3.12/site-packages/sklearn/linear_model/_coordinate_descent.py:628: ConvergenceWarning: Objective did not converge. You might want to increase the number of iterations, check the scale of the features or consider increasing regularisation. Duality gap: 5.682e+02, tolerance: 3.079e+00\n",
      "  model = cd_fast.enet_coordinate_descent(\n",
      "/opt/miniconda3/envs/env1/lib/python3.12/site-packages/sklearn/linear_model/_coordinate_descent.py:628: ConvergenceWarning: Objective did not converge. You might want to increase the number of iterations, check the scale of the features or consider increasing regularisation. Duality gap: 6.789e+02, tolerance: 3.463e+00\n",
      "  model = cd_fast.enet_coordinate_descent(\n",
      "/opt/miniconda3/envs/env1/lib/python3.12/site-packages/sklearn/linear_model/_coordinate_descent.py:628: ConvergenceWarning: Objective did not converge. You might want to increase the number of iterations, check the scale of the features or consider increasing regularisation. Duality gap: 5.545e+02, tolerance: 3.281e+00\n",
      "  model = cd_fast.enet_coordinate_descent(\n",
      "/opt/miniconda3/envs/env1/lib/python3.12/site-packages/sklearn/linear_model/_coordinate_descent.py:628: ConvergenceWarning: Objective did not converge. You might want to increase the number of iterations, check the scale of the features or consider increasing regularisation. Duality gap: 3.119e+02, tolerance: 3.424e+00\n",
      "  model = cd_fast.enet_coordinate_descent(\n",
      "/opt/miniconda3/envs/env1/lib/python3.12/site-packages/sklearn/linear_model/_coordinate_descent.py:628: ConvergenceWarning: Objective did not converge. You might want to increase the number of iterations, check the scale of the features or consider increasing regularisation. Duality gap: 2.849e+02, tolerance: 3.142e+00\n",
      "  model = cd_fast.enet_coordinate_descent(\n",
      "/opt/miniconda3/envs/env1/lib/python3.12/site-packages/sklearn/linear_model/_coordinate_descent.py:628: ConvergenceWarning: Objective did not converge. You might want to increase the number of iterations, check the scale of the features or consider increasing regularisation. Duality gap: 2.883e+02, tolerance: 3.079e+00\n",
      "  model = cd_fast.enet_coordinate_descent(\n",
      "/opt/miniconda3/envs/env1/lib/python3.12/site-packages/sklearn/linear_model/_coordinate_descent.py:628: ConvergenceWarning: Objective did not converge. You might want to increase the number of iterations, check the scale of the features or consider increasing regularisation. Duality gap: 3.367e+02, tolerance: 3.463e+00\n",
      "  model = cd_fast.enet_coordinate_descent(\n",
      "/opt/miniconda3/envs/env1/lib/python3.12/site-packages/sklearn/linear_model/_coordinate_descent.py:628: ConvergenceWarning: Objective did not converge. You might want to increase the number of iterations, check the scale of the features or consider increasing regularisation. Duality gap: 2.946e+02, tolerance: 3.281e+00\n",
      "  model = cd_fast.enet_coordinate_descent(\n",
      "/opt/miniconda3/envs/env1/lib/python3.12/site-packages/sklearn/linear_model/_coordinate_descent.py:628: ConvergenceWarning: Objective did not converge. You might want to increase the number of iterations, check the scale of the features or consider increasing regularisation. Duality gap: 1.664e+03, tolerance: 3.424e+00\n",
      "  model = cd_fast.enet_coordinate_descent(\n",
      "/opt/miniconda3/envs/env1/lib/python3.12/site-packages/sklearn/linear_model/_coordinate_descent.py:628: ConvergenceWarning: Objective did not converge. You might want to increase the number of iterations, check the scale of the features or consider increasing regularisation. Duality gap: 1.615e+03, tolerance: 3.142e+00\n",
      "  model = cd_fast.enet_coordinate_descent(\n",
      "/opt/miniconda3/envs/env1/lib/python3.12/site-packages/sklearn/linear_model/_coordinate_descent.py:628: ConvergenceWarning: Objective did not converge. You might want to increase the number of iterations, check the scale of the features or consider increasing regularisation. Duality gap: 1.588e+03, tolerance: 3.079e+00\n",
      "  model = cd_fast.enet_coordinate_descent(\n",
      "/opt/miniconda3/envs/env1/lib/python3.12/site-packages/sklearn/linear_model/_coordinate_descent.py:628: ConvergenceWarning: Objective did not converge. You might want to increase the number of iterations, check the scale of the features or consider increasing regularisation. Duality gap: 1.564e+03, tolerance: 3.463e+00\n",
      "  model = cd_fast.enet_coordinate_descent(\n",
      "/opt/miniconda3/envs/env1/lib/python3.12/site-packages/sklearn/linear_model/_coordinate_descent.py:628: ConvergenceWarning: Objective did not converge. You might want to increase the number of iterations, check the scale of the features or consider increasing regularisation. Duality gap: 1.461e+03, tolerance: 3.281e+00\n",
      "  model = cd_fast.enet_coordinate_descent(\n",
      "/opt/miniconda3/envs/env1/lib/python3.12/site-packages/sklearn/linear_model/_coordinate_descent.py:628: ConvergenceWarning: Objective did not converge. You might want to increase the number of iterations, check the scale of the features or consider increasing regularisation. Duality gap: 7.278e+02, tolerance: 3.424e+00\n",
      "  model = cd_fast.enet_coordinate_descent(\n",
      "/opt/miniconda3/envs/env1/lib/python3.12/site-packages/sklearn/linear_model/_coordinate_descent.py:628: ConvergenceWarning: Objective did not converge. You might want to increase the number of iterations, check the scale of the features or consider increasing regularisation. Duality gap: 6.611e+02, tolerance: 3.142e+00\n",
      "  model = cd_fast.enet_coordinate_descent(\n",
      "/opt/miniconda3/envs/env1/lib/python3.12/site-packages/sklearn/linear_model/_coordinate_descent.py:628: ConvergenceWarning: Objective did not converge. You might want to increase the number of iterations, check the scale of the features or consider increasing regularisation. Duality gap: 6.702e+02, tolerance: 3.079e+00\n",
      "  model = cd_fast.enet_coordinate_descent(\n",
      "/opt/miniconda3/envs/env1/lib/python3.12/site-packages/sklearn/linear_model/_coordinate_descent.py:628: ConvergenceWarning: Objective did not converge. You might want to increase the number of iterations, check the scale of the features or consider increasing regularisation. Duality gap: 7.562e+02, tolerance: 3.463e+00\n",
      "  model = cd_fast.enet_coordinate_descent(\n",
      "/opt/miniconda3/envs/env1/lib/python3.12/site-packages/sklearn/linear_model/_coordinate_descent.py:628: ConvergenceWarning: Objective did not converge. You might want to increase the number of iterations, check the scale of the features or consider increasing regularisation. Duality gap: 6.322e+02, tolerance: 3.281e+00\n",
      "  model = cd_fast.enet_coordinate_descent(\n",
      "/opt/miniconda3/envs/env1/lib/python3.12/site-packages/sklearn/linear_model/_coordinate_descent.py:628: ConvergenceWarning: Objective did not converge. You might want to increase the number of iterations, check the scale of the features or consider increasing regularisation. Duality gap: 3.579e+02, tolerance: 3.424e+00\n",
      "  model = cd_fast.enet_coordinate_descent(\n",
      "/opt/miniconda3/envs/env1/lib/python3.12/site-packages/sklearn/linear_model/_coordinate_descent.py:628: ConvergenceWarning: Objective did not converge. You might want to increase the number of iterations, check the scale of the features or consider increasing regularisation. Duality gap: 3.276e+02, tolerance: 3.142e+00\n",
      "  model = cd_fast.enet_coordinate_descent(\n",
      "/opt/miniconda3/envs/env1/lib/python3.12/site-packages/sklearn/linear_model/_coordinate_descent.py:628: ConvergenceWarning: Objective did not converge. You might want to increase the number of iterations, check the scale of the features or consider increasing regularisation. Duality gap: 3.254e+02, tolerance: 3.079e+00\n",
      "  model = cd_fast.enet_coordinate_descent(\n",
      "/opt/miniconda3/envs/env1/lib/python3.12/site-packages/sklearn/linear_model/_coordinate_descent.py:628: ConvergenceWarning: Objective did not converge. You might want to increase the number of iterations, check the scale of the features or consider increasing regularisation. Duality gap: 3.898e+02, tolerance: 3.463e+00\n",
      "  model = cd_fast.enet_coordinate_descent(\n",
      "/opt/miniconda3/envs/env1/lib/python3.12/site-packages/sklearn/linear_model/_coordinate_descent.py:628: ConvergenceWarning: Objective did not converge. You might want to increase the number of iterations, check the scale of the features or consider increasing regularisation. Duality gap: 3.339e+02, tolerance: 3.281e+00\n",
      "  model = cd_fast.enet_coordinate_descent(\n",
      "/opt/miniconda3/envs/env1/lib/python3.12/site-packages/sklearn/linear_model/_coordinate_descent.py:628: ConvergenceWarning: Objective did not converge. You might want to increase the number of iterations, check the scale of the features or consider increasing regularisation. Duality gap: 1.880e+03, tolerance: 3.424e+00\n",
      "  model = cd_fast.enet_coordinate_descent(\n",
      "/opt/miniconda3/envs/env1/lib/python3.12/site-packages/sklearn/linear_model/_coordinate_descent.py:628: ConvergenceWarning: Objective did not converge. You might want to increase the number of iterations, check the scale of the features or consider increasing regularisation. Duality gap: 1.990e+03, tolerance: 3.142e+00\n",
      "  model = cd_fast.enet_coordinate_descent(\n",
      "/opt/miniconda3/envs/env1/lib/python3.12/site-packages/sklearn/linear_model/_coordinate_descent.py:628: ConvergenceWarning: Objective did not converge. You might want to increase the number of iterations, check the scale of the features or consider increasing regularisation. Duality gap: 1.915e+03, tolerance: 3.079e+00\n",
      "  model = cd_fast.enet_coordinate_descent(\n",
      "/opt/miniconda3/envs/env1/lib/python3.12/site-packages/sklearn/linear_model/_coordinate_descent.py:628: ConvergenceWarning: Objective did not converge. You might want to increase the number of iterations, check the scale of the features or consider increasing regularisation. Duality gap: 1.917e+03, tolerance: 3.463e+00\n",
      "  model = cd_fast.enet_coordinate_descent(\n",
      "/opt/miniconda3/envs/env1/lib/python3.12/site-packages/sklearn/linear_model/_coordinate_descent.py:628: ConvergenceWarning: Objective did not converge. You might want to increase the number of iterations, check the scale of the features or consider increasing regularisation. Duality gap: 1.806e+03, tolerance: 3.281e+00\n",
      "  model = cd_fast.enet_coordinate_descent(\n",
      "/opt/miniconda3/envs/env1/lib/python3.12/site-packages/sklearn/linear_model/_coordinate_descent.py:628: ConvergenceWarning: Objective did not converge. You might want to increase the number of iterations, check the scale of the features or consider increasing regularisation. Duality gap: 8.534e+02, tolerance: 3.424e+00\n",
      "  model = cd_fast.enet_coordinate_descent(\n",
      "/opt/miniconda3/envs/env1/lib/python3.12/site-packages/sklearn/linear_model/_coordinate_descent.py:628: ConvergenceWarning: Objective did not converge. You might want to increase the number of iterations, check the scale of the features or consider increasing regularisation. Duality gap: 7.623e+02, tolerance: 3.142e+00\n",
      "  model = cd_fast.enet_coordinate_descent(\n",
      "/opt/miniconda3/envs/env1/lib/python3.12/site-packages/sklearn/linear_model/_coordinate_descent.py:628: ConvergenceWarning: Objective did not converge. You might want to increase the number of iterations, check the scale of the features or consider increasing regularisation. Duality gap: 7.910e+02, tolerance: 3.079e+00\n",
      "  model = cd_fast.enet_coordinate_descent(\n",
      "/opt/miniconda3/envs/env1/lib/python3.12/site-packages/sklearn/linear_model/_coordinate_descent.py:628: ConvergenceWarning: Objective did not converge. You might want to increase the number of iterations, check the scale of the features or consider increasing regularisation. Duality gap: 8.838e+02, tolerance: 3.463e+00\n",
      "  model = cd_fast.enet_coordinate_descent(\n",
      "/opt/miniconda3/envs/env1/lib/python3.12/site-packages/sklearn/linear_model/_coordinate_descent.py:628: ConvergenceWarning: Objective did not converge. You might want to increase the number of iterations, check the scale of the features or consider increasing regularisation. Duality gap: 7.282e+02, tolerance: 3.281e+00\n",
      "  model = cd_fast.enet_coordinate_descent(\n",
      "/opt/miniconda3/envs/env1/lib/python3.12/site-packages/sklearn/linear_model/_coordinate_descent.py:628: ConvergenceWarning: Objective did not converge. You might want to increase the number of iterations, check the scale of the features or consider increasing regularisation. Duality gap: 4.217e+02, tolerance: 3.424e+00\n",
      "  model = cd_fast.enet_coordinate_descent(\n",
      "/opt/miniconda3/envs/env1/lib/python3.12/site-packages/sklearn/linear_model/_coordinate_descent.py:628: ConvergenceWarning: Objective did not converge. You might want to increase the number of iterations, check the scale of the features or consider increasing regularisation. Duality gap: 3.812e+02, tolerance: 3.142e+00\n",
      "  model = cd_fast.enet_coordinate_descent(\n",
      "/opt/miniconda3/envs/env1/lib/python3.12/site-packages/sklearn/linear_model/_coordinate_descent.py:628: ConvergenceWarning: Objective did not converge. You might want to increase the number of iterations, check the scale of the features or consider increasing regularisation. Duality gap: 3.850e+02, tolerance: 3.079e+00\n",
      "  model = cd_fast.enet_coordinate_descent(\n",
      "/opt/miniconda3/envs/env1/lib/python3.12/site-packages/sklearn/linear_model/_coordinate_descent.py:628: ConvergenceWarning: Objective did not converge. You might want to increase the number of iterations, check the scale of the features or consider increasing regularisation. Duality gap: 4.574e+02, tolerance: 3.463e+00\n",
      "  model = cd_fast.enet_coordinate_descent(\n",
      "/opt/miniconda3/envs/env1/lib/python3.12/site-packages/sklearn/linear_model/_coordinate_descent.py:628: ConvergenceWarning: Objective did not converge. You might want to increase the number of iterations, check the scale of the features or consider increasing regularisation. Duality gap: 3.807e+02, tolerance: 3.281e+00\n",
      "  model = cd_fast.enet_coordinate_descent(\n",
      "/opt/miniconda3/envs/env1/lib/python3.12/site-packages/sklearn/linear_model/_coordinate_descent.py:628: ConvergenceWarning: Objective did not converge. You might want to increase the number of iterations, check the scale of the features or consider increasing regularisation. Duality gap: 2.361e+03, tolerance: 3.424e+00\n",
      "  model = cd_fast.enet_coordinate_descent(\n",
      "/opt/miniconda3/envs/env1/lib/python3.12/site-packages/sklearn/linear_model/_coordinate_descent.py:628: ConvergenceWarning: Objective did not converge. You might want to increase the number of iterations, check the scale of the features or consider increasing regularisation. Duality gap: 2.467e+03, tolerance: 3.142e+00\n",
      "  model = cd_fast.enet_coordinate_descent(\n",
      "/opt/miniconda3/envs/env1/lib/python3.12/site-packages/sklearn/linear_model/_coordinate_descent.py:628: ConvergenceWarning: Objective did not converge. You might want to increase the number of iterations, check the scale of the features or consider increasing regularisation. Duality gap: 2.273e+03, tolerance: 3.079e+00\n",
      "  model = cd_fast.enet_coordinate_descent(\n",
      "/opt/miniconda3/envs/env1/lib/python3.12/site-packages/sklearn/linear_model/_coordinate_descent.py:628: ConvergenceWarning: Objective did not converge. You might want to increase the number of iterations, check the scale of the features or consider increasing regularisation. Duality gap: 2.431e+03, tolerance: 3.463e+00\n",
      "  model = cd_fast.enet_coordinate_descent(\n",
      "/opt/miniconda3/envs/env1/lib/python3.12/site-packages/sklearn/linear_model/_coordinate_descent.py:628: ConvergenceWarning: Objective did not converge. You might want to increase the number of iterations, check the scale of the features or consider increasing regularisation. Duality gap: 2.202e+03, tolerance: 3.281e+00\n",
      "  model = cd_fast.enet_coordinate_descent(\n",
      "/opt/miniconda3/envs/env1/lib/python3.12/site-packages/sklearn/linear_model/_coordinate_descent.py:628: ConvergenceWarning: Objective did not converge. You might want to increase the number of iterations, check the scale of the features or consider increasing regularisation. Duality gap: 1.071e+03, tolerance: 3.424e+00\n",
      "  model = cd_fast.enet_coordinate_descent(\n",
      "/opt/miniconda3/envs/env1/lib/python3.12/site-packages/sklearn/linear_model/_coordinate_descent.py:628: ConvergenceWarning: Objective did not converge. You might want to increase the number of iterations, check the scale of the features or consider increasing regularisation. Duality gap: 9.569e+02, tolerance: 3.142e+00\n",
      "  model = cd_fast.enet_coordinate_descent(\n",
      "/opt/miniconda3/envs/env1/lib/python3.12/site-packages/sklearn/linear_model/_coordinate_descent.py:628: ConvergenceWarning: Objective did not converge. You might want to increase the number of iterations, check the scale of the features or consider increasing regularisation. Duality gap: 9.796e+02, tolerance: 3.079e+00\n",
      "  model = cd_fast.enet_coordinate_descent(\n",
      "/opt/miniconda3/envs/env1/lib/python3.12/site-packages/sklearn/linear_model/_coordinate_descent.py:628: ConvergenceWarning: Objective did not converge. You might want to increase the number of iterations, check the scale of the features or consider increasing regularisation. Duality gap: 1.085e+03, tolerance: 3.463e+00\n",
      "  model = cd_fast.enet_coordinate_descent(\n",
      "/opt/miniconda3/envs/env1/lib/python3.12/site-packages/sklearn/linear_model/_coordinate_descent.py:628: ConvergenceWarning: Objective did not converge. You might want to increase the number of iterations, check the scale of the features or consider increasing regularisation. Duality gap: 8.798e+02, tolerance: 3.281e+00\n",
      "  model = cd_fast.enet_coordinate_descent(\n",
      "/opt/miniconda3/envs/env1/lib/python3.12/site-packages/sklearn/linear_model/_coordinate_descent.py:628: ConvergenceWarning: Objective did not converge. You might want to increase the number of iterations, check the scale of the features or consider increasing regularisation. Duality gap: 5.106e+02, tolerance: 3.424e+00\n",
      "  model = cd_fast.enet_coordinate_descent(\n",
      "/opt/miniconda3/envs/env1/lib/python3.12/site-packages/sklearn/linear_model/_coordinate_descent.py:628: ConvergenceWarning: Objective did not converge. You might want to increase the number of iterations, check the scale of the features or consider increasing regularisation. Duality gap: 4.708e+02, tolerance: 3.142e+00\n",
      "  model = cd_fast.enet_coordinate_descent(\n",
      "/opt/miniconda3/envs/env1/lib/python3.12/site-packages/sklearn/linear_model/_coordinate_descent.py:628: ConvergenceWarning: Objective did not converge. You might want to increase the number of iterations, check the scale of the features or consider increasing regularisation. Duality gap: 4.731e+02, tolerance: 3.079e+00\n",
      "  model = cd_fast.enet_coordinate_descent(\n",
      "/opt/miniconda3/envs/env1/lib/python3.12/site-packages/sklearn/linear_model/_coordinate_descent.py:628: ConvergenceWarning: Objective did not converge. You might want to increase the number of iterations, check the scale of the features or consider increasing regularisation. Duality gap: 5.576e+02, tolerance: 3.463e+00\n",
      "  model = cd_fast.enet_coordinate_descent(\n",
      "/opt/miniconda3/envs/env1/lib/python3.12/site-packages/sklearn/linear_model/_coordinate_descent.py:628: ConvergenceWarning: Objective did not converge. You might want to increase the number of iterations, check the scale of the features or consider increasing regularisation. Duality gap: 4.559e+02, tolerance: 3.281e+00\n",
      "  model = cd_fast.enet_coordinate_descent(\n",
      "/opt/miniconda3/envs/env1/lib/python3.12/site-packages/sklearn/linear_model/_coordinate_descent.py:628: ConvergenceWarning: Objective did not converge. You might want to increase the number of iterations, check the scale of the features or consider increasing regularisation. Duality gap: 2.081e+03, tolerance: 4.100e+00\n",
      "  model = cd_fast.enet_coordinate_descent(\n"
     ]
    },
    {
     "data": {
      "text/plain": [
       "{'elasticnet__alpha': 0.1, 'polynomialfeatures__degree': 2}"
      ]
     },
     "execution_count": 26,
     "metadata": {},
     "output_type": "execute_result"
    }
   ],
   "source": [
    "grid_1 = GridSearchCV(make_pipeline(PolynomialFeatures(degree=2), ElasticNet(alpha=1, random_state=seed)),\n",
    "                    param_grid={'polynomialfeatures__degree': [1, 2, 3, 4],\n",
    "                    'elasticnet__alpha': [0.01, 0.1, 1, 10]},\n",
    "                    cv=kfold,\n",
    "                    refit=True)\n",
    "grid_1.fit(X, y)\n",
    "grid_1.best_params_"
   ]
  },
  {
   "cell_type": "code",
   "execution_count": 10,
   "metadata": {},
   "outputs": [
    {
     "data": {
      "text/plain": [
       "array([[0.70805942, 0.81680208, 0.74702819, 0.63462343],\n",
       "       [0.70014515, 0.83003047, 0.73343859, 0.63043122],\n",
       "       [0.66429641, 0.82359064, 0.75795199, 0.61636726],\n",
       "       [0.52367919, 0.80580758, 0.7581234 , 0.61997622]])"
      ]
     },
     "execution_count": 10,
     "metadata": {},
     "output_type": "execute_result"
    }
   ],
   "source": [
    "grid_1.cv_results_['mean_test_score'].reshape(4, -1)"
   ]
  },
  {
   "cell_type": "code",
   "execution_count": 11,
   "metadata": {},
   "outputs": [
    {
     "data": {
      "image/png": "[encoded data removed]",
      "text/plain": [
       "<Figure size 480x480 with 1 Axes>"
      ]
     },
     "metadata": {},
     "output_type": "display_data"
    }
   ],
   "source": [
    "plt.matshow(grid_1.cv_results_['mean_test_score'].reshape(4, -1), vmin=0, cmap=\"viridis\")\n",
    "plt.xlabel(\"elasticnet__alpha\")\n",
    "plt.ylabel(\"polynomialfeatures__degree\")\n",
    "plt.show()"
   ]
  },
  {
   "cell_type": "code",
   "execution_count": 12,
   "metadata": {},
   "outputs": [
    {
     "name": "stderr",
     "output_type": "stream",
     "text": [
      "/opt/miniconda3/envs/env1/lib/python3.12/site-packages/sklearn/linear_model/_coordinate_descent.py:628: ConvergenceWarning: Objective did not converge. You might want to increase the number of iterations, check the scale of the features or consider increasing regularisation. Duality gap: 1.459e+03, tolerance: 3.424e+00\n",
      "  model = cd_fast.enet_coordinate_descent(\n",
      "/opt/miniconda3/envs/env1/lib/python3.12/site-packages/sklearn/linear_model/_coordinate_descent.py:628: ConvergenceWarning: Objective did not converge. You might want to increase the number of iterations, check the scale of the features or consider increasing regularisation. Duality gap: 1.284e+03, tolerance: 3.142e+00\n",
      "  model = cd_fast.enet_coordinate_descent(\n",
      "/opt/miniconda3/envs/env1/lib/python3.12/site-packages/sklearn/linear_model/_coordinate_descent.py:628: ConvergenceWarning: Objective did not converge. You might want to increase the number of iterations, check the scale of the features or consider increasing regularisation. Duality gap: 1.310e+03, tolerance: 3.079e+00\n",
      "  model = cd_fast.enet_coordinate_descent(\n",
      "/opt/miniconda3/envs/env1/lib/python3.12/site-packages/sklearn/linear_model/_coordinate_descent.py:628: ConvergenceWarning: Objective did not converge. You might want to increase the number of iterations, check the scale of the features or consider increasing regularisation. Duality gap: 1.420e+03, tolerance: 3.463e+00\n",
      "  model = cd_fast.enet_coordinate_descent(\n",
      "/opt/miniconda3/envs/env1/lib/python3.12/site-packages/sklearn/linear_model/_coordinate_descent.py:628: ConvergenceWarning: Objective did not converge. You might want to increase the number of iterations, check the scale of the features or consider increasing regularisation. Duality gap: 1.204e+03, tolerance: 3.281e+00\n",
      "  model = cd_fast.enet_coordinate_descent(\n",
      "/opt/miniconda3/envs/env1/lib/python3.12/site-packages/sklearn/linear_model/_coordinate_descent.py:628: ConvergenceWarning: Objective did not converge. You might want to increase the number of iterations, check the scale of the features or consider increasing regularisation. Duality gap: 6.696e+02, tolerance: 3.424e+00\n",
      "  model = cd_fast.enet_coordinate_descent(\n",
      "/opt/miniconda3/envs/env1/lib/python3.12/site-packages/sklearn/linear_model/_coordinate_descent.py:628: ConvergenceWarning: Objective did not converge. You might want to increase the number of iterations, check the scale of the features or consider increasing regularisation. Duality gap: 6.023e+02, tolerance: 3.142e+00\n",
      "  model = cd_fast.enet_coordinate_descent(\n",
      "/opt/miniconda3/envs/env1/lib/python3.12/site-packages/sklearn/linear_model/_coordinate_descent.py:628: ConvergenceWarning: Objective did not converge. You might want to increase the number of iterations, check the scale of the features or consider increasing regularisation. Duality gap: 5.905e+02, tolerance: 3.079e+00\n",
      "  model = cd_fast.enet_coordinate_descent(\n",
      "/opt/miniconda3/envs/env1/lib/python3.12/site-packages/sklearn/linear_model/_coordinate_descent.py:628: ConvergenceWarning: Objective did not converge. You might want to increase the number of iterations, check the scale of the features or consider increasing regularisation. Duality gap: 6.981e+02, tolerance: 3.463e+00\n",
      "  model = cd_fast.enet_coordinate_descent(\n",
      "/opt/miniconda3/envs/env1/lib/python3.12/site-packages/sklearn/linear_model/_coordinate_descent.py:628: ConvergenceWarning: Objective did not converge. You might want to increase the number of iterations, check the scale of the features or consider increasing regularisation. Duality gap: 5.757e+02, tolerance: 3.281e+00\n",
      "  model = cd_fast.enet_coordinate_descent(\n",
      "/opt/miniconda3/envs/env1/lib/python3.12/site-packages/sklearn/linear_model/_coordinate_descent.py:628: ConvergenceWarning: Objective did not converge. You might want to increase the number of iterations, check the scale of the features or consider increasing regularisation. Duality gap: 3.243e+02, tolerance: 3.424e+00\n",
      "  model = cd_fast.enet_coordinate_descent(\n",
      "/opt/miniconda3/envs/env1/lib/python3.12/site-packages/sklearn/linear_model/_coordinate_descent.py:628: ConvergenceWarning: Objective did not converge. You might want to increase the number of iterations, check the scale of the features or consider increasing regularisation. Duality gap: 2.944e+02, tolerance: 3.142e+00\n",
      "  model = cd_fast.enet_coordinate_descent(\n",
      "/opt/miniconda3/envs/env1/lib/python3.12/site-packages/sklearn/linear_model/_coordinate_descent.py:628: ConvergenceWarning: Objective did not converge. You might want to increase the number of iterations, check the scale of the features or consider increasing regularisation. Duality gap: 2.971e+02, tolerance: 3.079e+00\n",
      "  model = cd_fast.enet_coordinate_descent(\n",
      "/opt/miniconda3/envs/env1/lib/python3.12/site-packages/sklearn/linear_model/_coordinate_descent.py:628: ConvergenceWarning: Objective did not converge. You might want to increase the number of iterations, check the scale of the features or consider increasing regularisation. Duality gap: 3.479e+02, tolerance: 3.463e+00\n",
      "  model = cd_fast.enet_coordinate_descent(\n",
      "/opt/miniconda3/envs/env1/lib/python3.12/site-packages/sklearn/linear_model/_coordinate_descent.py:628: ConvergenceWarning: Objective did not converge. You might want to increase the number of iterations, check the scale of the features or consider increasing regularisation. Duality gap: 3.045e+02, tolerance: 3.281e+00\n",
      "  model = cd_fast.enet_coordinate_descent(\n",
      "/opt/miniconda3/envs/env1/lib/python3.12/site-packages/sklearn/linear_model/_coordinate_descent.py:628: ConvergenceWarning: Objective did not converge. You might want to increase the number of iterations, check the scale of the features or consider increasing regularisation. Duality gap: 1.699e+03, tolerance: 3.424e+00\n",
      "  model = cd_fast.enet_coordinate_descent(\n",
      "/opt/miniconda3/envs/env1/lib/python3.12/site-packages/sklearn/linear_model/_coordinate_descent.py:628: ConvergenceWarning: Objective did not converge. You might want to increase the number of iterations, check the scale of the features or consider increasing regularisation. Duality gap: 1.634e+03, tolerance: 3.142e+00\n",
      "  model = cd_fast.enet_coordinate_descent(\n",
      "/opt/miniconda3/envs/env1/lib/python3.12/site-packages/sklearn/linear_model/_coordinate_descent.py:628: ConvergenceWarning: Objective did not converge. You might want to increase the number of iterations, check the scale of the features or consider increasing regularisation. Duality gap: 1.654e+03, tolerance: 3.079e+00\n",
      "  model = cd_fast.enet_coordinate_descent(\n",
      "/opt/miniconda3/envs/env1/lib/python3.12/site-packages/sklearn/linear_model/_coordinate_descent.py:628: ConvergenceWarning: Objective did not converge. You might want to increase the number of iterations, check the scale of the features or consider increasing regularisation. Duality gap: 1.612e+03, tolerance: 3.463e+00\n",
      "  model = cd_fast.enet_coordinate_descent(\n",
      "/opt/miniconda3/envs/env1/lib/python3.12/site-packages/sklearn/linear_model/_coordinate_descent.py:628: ConvergenceWarning: Objective did not converge. You might want to increase the number of iterations, check the scale of the features or consider increasing regularisation. Duality gap: 1.493e+03, tolerance: 3.281e+00\n",
      "  model = cd_fast.enet_coordinate_descent(\n",
      "/opt/miniconda3/envs/env1/lib/python3.12/site-packages/sklearn/linear_model/_coordinate_descent.py:628: ConvergenceWarning: Objective did not converge. You might want to increase the number of iterations, check the scale of the features or consider increasing regularisation. Duality gap: 7.656e+02, tolerance: 3.424e+00\n",
      "  model = cd_fast.enet_coordinate_descent(\n",
      "/opt/miniconda3/envs/env1/lib/python3.12/site-packages/sklearn/linear_model/_coordinate_descent.py:628: ConvergenceWarning: Objective did not converge. You might want to increase the number of iterations, check the scale of the features or consider increasing regularisation. Duality gap: 6.897e+02, tolerance: 3.142e+00\n",
      "  model = cd_fast.enet_coordinate_descent(\n",
      "/opt/miniconda3/envs/env1/lib/python3.12/site-packages/sklearn/linear_model/_coordinate_descent.py:628: ConvergenceWarning: Objective did not converge. You might want to increase the number of iterations, check the scale of the features or consider increasing regularisation. Duality gap: 7.119e+02, tolerance: 3.079e+00\n",
      "  model = cd_fast.enet_coordinate_descent(\n",
      "/opt/miniconda3/envs/env1/lib/python3.12/site-packages/sklearn/linear_model/_coordinate_descent.py:628: ConvergenceWarning: Objective did not converge. You might want to increase the number of iterations, check the scale of the features or consider increasing regularisation. Duality gap: 7.902e+02, tolerance: 3.463e+00\n",
      "  model = cd_fast.enet_coordinate_descent(\n",
      "/opt/miniconda3/envs/env1/lib/python3.12/site-packages/sklearn/linear_model/_coordinate_descent.py:628: ConvergenceWarning: Objective did not converge. You might want to increase the number of iterations, check the scale of the features or consider increasing regularisation. Duality gap: 6.605e+02, tolerance: 3.281e+00\n",
      "  model = cd_fast.enet_coordinate_descent(\n",
      "/opt/miniconda3/envs/env1/lib/python3.12/site-packages/sklearn/linear_model/_coordinate_descent.py:628: ConvergenceWarning: Objective did not converge. You might want to increase the number of iterations, check the scale of the features or consider increasing regularisation. Duality gap: 3.784e+02, tolerance: 3.424e+00\n",
      "  model = cd_fast.enet_coordinate_descent(\n",
      "/opt/miniconda3/envs/env1/lib/python3.12/site-packages/sklearn/linear_model/_coordinate_descent.py:628: ConvergenceWarning: Objective did not converge. You might want to increase the number of iterations, check the scale of the features or consider increasing regularisation. Duality gap: 3.450e+02, tolerance: 3.142e+00\n",
      "  model = cd_fast.enet_coordinate_descent(\n",
      "/opt/miniconda3/envs/env1/lib/python3.12/site-packages/sklearn/linear_model/_coordinate_descent.py:628: ConvergenceWarning: Objective did not converge. You might want to increase the number of iterations, check the scale of the features or consider increasing regularisation. Duality gap: 3.413e+02, tolerance: 3.079e+00\n",
      "  model = cd_fast.enet_coordinate_descent(\n",
      "/opt/miniconda3/envs/env1/lib/python3.12/site-packages/sklearn/linear_model/_coordinate_descent.py:628: ConvergenceWarning: Objective did not converge. You might want to increase the number of iterations, check the scale of the features or consider increasing regularisation. Duality gap: 4.101e+02, tolerance: 3.463e+00\n",
      "  model = cd_fast.enet_coordinate_descent(\n",
      "/opt/miniconda3/envs/env1/lib/python3.12/site-packages/sklearn/linear_model/_coordinate_descent.py:628: ConvergenceWarning: Objective did not converge. You might want to increase the number of iterations, check the scale of the features or consider increasing regularisation. Duality gap: 3.473e+02, tolerance: 3.281e+00\n",
      "  model = cd_fast.enet_coordinate_descent(\n",
      "/opt/miniconda3/envs/env1/lib/python3.12/site-packages/sklearn/linear_model/_coordinate_descent.py:628: ConvergenceWarning: Objective did not converge. You might want to increase the number of iterations, check the scale of the features or consider increasing regularisation. Duality gap: 1.991e+03, tolerance: 3.424e+00\n",
      "  model = cd_fast.enet_coordinate_descent(\n",
      "/opt/miniconda3/envs/env1/lib/python3.12/site-packages/sklearn/linear_model/_coordinate_descent.py:628: ConvergenceWarning: Objective did not converge. You might want to increase the number of iterations, check the scale of the features or consider increasing regularisation. Duality gap: 2.131e+03, tolerance: 3.142e+00\n",
      "  model = cd_fast.enet_coordinate_descent(\n",
      "/opt/miniconda3/envs/env1/lib/python3.12/site-packages/sklearn/linear_model/_coordinate_descent.py:628: ConvergenceWarning: Objective did not converge. You might want to increase the number of iterations, check the scale of the features or consider increasing regularisation. Duality gap: 2.032e+03, tolerance: 3.079e+00\n",
      "  model = cd_fast.enet_coordinate_descent(\n",
      "/opt/miniconda3/envs/env1/lib/python3.12/site-packages/sklearn/linear_model/_coordinate_descent.py:628: ConvergenceWarning: Objective did not converge. You might want to increase the number of iterations, check the scale of the features or consider increasing regularisation. Duality gap: 2.053e+03, tolerance: 3.463e+00\n",
      "  model = cd_fast.enet_coordinate_descent(\n",
      "/opt/miniconda3/envs/env1/lib/python3.12/site-packages/sklearn/linear_model/_coordinate_descent.py:628: ConvergenceWarning: Objective did not converge. You might want to increase the number of iterations, check the scale of the features or consider increasing regularisation. Duality gap: 1.924e+03, tolerance: 3.281e+00\n",
      "  model = cd_fast.enet_coordinate_descent(\n",
      "/opt/miniconda3/envs/env1/lib/python3.12/site-packages/sklearn/linear_model/_coordinate_descent.py:628: ConvergenceWarning: Objective did not converge. You might want to increase the number of iterations, check the scale of the features or consider increasing regularisation. Duality gap: 9.067e+02, tolerance: 3.424e+00\n",
      "  model = cd_fast.enet_coordinate_descent(\n",
      "/opt/miniconda3/envs/env1/lib/python3.12/site-packages/sklearn/linear_model/_coordinate_descent.py:628: ConvergenceWarning: Objective did not converge. You might want to increase the number of iterations, check the scale of the features or consider increasing regularisation. Duality gap: 8.123e+02, tolerance: 3.142e+00\n",
      "  model = cd_fast.enet_coordinate_descent(\n",
      "/opt/miniconda3/envs/env1/lib/python3.12/site-packages/sklearn/linear_model/_coordinate_descent.py:628: ConvergenceWarning: Objective did not converge. You might want to increase the number of iterations, check the scale of the features or consider increasing regularisation. Duality gap: 8.520e+02, tolerance: 3.079e+00\n",
      "  model = cd_fast.enet_coordinate_descent(\n",
      "/opt/miniconda3/envs/env1/lib/python3.12/site-packages/sklearn/linear_model/_coordinate_descent.py:628: ConvergenceWarning: Objective did not converge. You might want to increase the number of iterations, check the scale of the features or consider increasing regularisation. Duality gap: 9.457e+02, tolerance: 3.463e+00\n",
      "  model = cd_fast.enet_coordinate_descent(\n",
      "/opt/miniconda3/envs/env1/lib/python3.12/site-packages/sklearn/linear_model/_coordinate_descent.py:628: ConvergenceWarning: Objective did not converge. You might want to increase the number of iterations, check the scale of the features or consider increasing regularisation. Duality gap: 7.710e+02, tolerance: 3.281e+00\n",
      "  model = cd_fast.enet_coordinate_descent(\n",
      "/opt/miniconda3/envs/env1/lib/python3.12/site-packages/sklearn/linear_model/_coordinate_descent.py:628: ConvergenceWarning: Objective did not converge. You might want to increase the number of iterations, check the scale of the features or consider increasing regularisation. Duality gap: 4.396e+02, tolerance: 3.424e+00\n",
      "  model = cd_fast.enet_coordinate_descent(\n",
      "/opt/miniconda3/envs/env1/lib/python3.12/site-packages/sklearn/linear_model/_coordinate_descent.py:628: ConvergenceWarning: Objective did not converge. You might want to increase the number of iterations, check the scale of the features or consider increasing regularisation. Duality gap: 3.998e+02, tolerance: 3.142e+00\n",
      "  model = cd_fast.enet_coordinate_descent(\n",
      "/opt/miniconda3/envs/env1/lib/python3.12/site-packages/sklearn/linear_model/_coordinate_descent.py:628: ConvergenceWarning: Objective did not converge. You might want to increase the number of iterations, check the scale of the features or consider increasing regularisation. Duality gap: 3.999e+02, tolerance: 3.079e+00\n",
      "  model = cd_fast.enet_coordinate_descent(\n",
      "/opt/miniconda3/envs/env1/lib/python3.12/site-packages/sklearn/linear_model/_coordinate_descent.py:628: ConvergenceWarning: Objective did not converge. You might want to increase the number of iterations, check the scale of the features or consider increasing regularisation. Duality gap: 4.684e+02, tolerance: 3.463e+00\n",
      "  model = cd_fast.enet_coordinate_descent(\n",
      "/opt/miniconda3/envs/env1/lib/python3.12/site-packages/sklearn/linear_model/_coordinate_descent.py:628: ConvergenceWarning: Objective did not converge. You might want to increase the number of iterations, check the scale of the features or consider increasing regularisation. Duality gap: 3.950e+02, tolerance: 3.281e+00\n",
      "  model = cd_fast.enet_coordinate_descent(\n",
      "/opt/miniconda3/envs/env1/lib/python3.12/site-packages/sklearn/linear_model/_coordinate_descent.py:628: ConvergenceWarning: Objective did not converge. You might want to increase the number of iterations, check the scale of the features or consider increasing regularisation. Duality gap: 2.441e+03, tolerance: 3.424e+00\n",
      "  model = cd_fast.enet_coordinate_descent(\n",
      "/opt/miniconda3/envs/env1/lib/python3.12/site-packages/sklearn/linear_model/_coordinate_descent.py:628: ConvergenceWarning: Objective did not converge. You might want to increase the number of iterations, check the scale of the features or consider increasing regularisation. Duality gap: 2.556e+03, tolerance: 3.142e+00\n",
      "  model = cd_fast.enet_coordinate_descent(\n",
      "/opt/miniconda3/envs/env1/lib/python3.12/site-packages/sklearn/linear_model/_coordinate_descent.py:628: ConvergenceWarning: Objective did not converge. You might want to increase the number of iterations, check the scale of the features or consider increasing regularisation. Duality gap: 2.363e+03, tolerance: 3.079e+00\n",
      "  model = cd_fast.enet_coordinate_descent(\n",
      "/opt/miniconda3/envs/env1/lib/python3.12/site-packages/sklearn/linear_model/_coordinate_descent.py:628: ConvergenceWarning: Objective did not converge. You might want to increase the number of iterations, check the scale of the features or consider increasing regularisation. Duality gap: 2.163e+03, tolerance: 3.463e+00\n",
      "  model = cd_fast.enet_coordinate_descent(\n",
      "/opt/miniconda3/envs/env1/lib/python3.12/site-packages/sklearn/linear_model/_coordinate_descent.py:628: ConvergenceWarning: Objective did not converge. You might want to increase the number of iterations, check the scale of the features or consider increasing regularisation. Duality gap: 2.265e+03, tolerance: 3.281e+00\n",
      "  model = cd_fast.enet_coordinate_descent(\n",
      "/opt/miniconda3/envs/env1/lib/python3.12/site-packages/sklearn/linear_model/_coordinate_descent.py:628: ConvergenceWarning: Objective did not converge. You might want to increase the number of iterations, check the scale of the features or consider increasing regularisation. Duality gap: 1.149e+03, tolerance: 3.424e+00\n",
      "  model = cd_fast.enet_coordinate_descent(\n",
      "/opt/miniconda3/envs/env1/lib/python3.12/site-packages/sklearn/linear_model/_coordinate_descent.py:628: ConvergenceWarning: Objective did not converge. You might want to increase the number of iterations, check the scale of the features or consider increasing regularisation. Duality gap: 1.047e+03, tolerance: 3.142e+00\n",
      "  model = cd_fast.enet_coordinate_descent(\n",
      "/opt/miniconda3/envs/env1/lib/python3.12/site-packages/sklearn/linear_model/_coordinate_descent.py:628: ConvergenceWarning: Objective did not converge. You might want to increase the number of iterations, check the scale of the features or consider increasing regularisation. Duality gap: 1.050e+03, tolerance: 3.079e+00\n",
      "  model = cd_fast.enet_coordinate_descent(\n",
      "/opt/miniconda3/envs/env1/lib/python3.12/site-packages/sklearn/linear_model/_coordinate_descent.py:628: ConvergenceWarning: Objective did not converge. You might want to increase the number of iterations, check the scale of the features or consider increasing regularisation. Duality gap: 1.126e+03, tolerance: 3.463e+00\n",
      "  model = cd_fast.enet_coordinate_descent(\n",
      "/opt/miniconda3/envs/env1/lib/python3.12/site-packages/sklearn/linear_model/_coordinate_descent.py:628: ConvergenceWarning: Objective did not converge. You might want to increase the number of iterations, check the scale of the features or consider increasing regularisation. Duality gap: 9.503e+02, tolerance: 3.281e+00\n",
      "  model = cd_fast.enet_coordinate_descent(\n",
      "/opt/miniconda3/envs/env1/lib/python3.12/site-packages/sklearn/linear_model/_coordinate_descent.py:628: ConvergenceWarning: Objective did not converge. You might want to increase the number of iterations, check the scale of the features or consider increasing regularisation. Duality gap: 5.450e+02, tolerance: 3.424e+00\n",
      "  model = cd_fast.enet_coordinate_descent(\n",
      "/opt/miniconda3/envs/env1/lib/python3.12/site-packages/sklearn/linear_model/_coordinate_descent.py:628: ConvergenceWarning: Objective did not converge. You might want to increase the number of iterations, check the scale of the features or consider increasing regularisation. Duality gap: 5.031e+02, tolerance: 3.142e+00\n",
      "  model = cd_fast.enet_coordinate_descent(\n",
      "/opt/miniconda3/envs/env1/lib/python3.12/site-packages/sklearn/linear_model/_coordinate_descent.py:628: ConvergenceWarning: Objective did not converge. You might want to increase the number of iterations, check the scale of the features or consider increasing regularisation. Duality gap: 5.075e+02, tolerance: 3.079e+00\n",
      "  model = cd_fast.enet_coordinate_descent(\n",
      "/opt/miniconda3/envs/env1/lib/python3.12/site-packages/sklearn/linear_model/_coordinate_descent.py:628: ConvergenceWarning: Objective did not converge. You might want to increase the number of iterations, check the scale of the features or consider increasing regularisation. Duality gap: 5.903e+02, tolerance: 3.463e+00\n",
      "  model = cd_fast.enet_coordinate_descent(\n",
      "/opt/miniconda3/envs/env1/lib/python3.12/site-packages/sklearn/linear_model/_coordinate_descent.py:628: ConvergenceWarning: Objective did not converge. You might want to increase the number of iterations, check the scale of the features or consider increasing regularisation. Duality gap: 4.829e+02, tolerance: 3.281e+00\n",
      "  model = cd_fast.enet_coordinate_descent(\n",
      "/opt/miniconda3/envs/env1/lib/python3.12/site-packages/sklearn/linear_model/_coordinate_descent.py:628: ConvergenceWarning: Objective did not converge. You might want to increase the number of iterations, check the scale of the features or consider increasing regularisation. Duality gap: 2.137e+03, tolerance: 4.100e+00\n",
      "  model = cd_fast.enet_coordinate_descent(\n"
     ]
    },
    {
     "data": {
      "image/png": "[encoded data removed]",
      "text/plain": [
       "<Figure size 480x480 with 1 Axes>"
      ]
     },
     "metadata": {},
     "output_type": "display_data"
    },
    {
     "data": {
      "text/plain": [
       "{'lasso__alpha': 0.1, 'polynomialfeatures__degree': 2}"
      ]
     },
     "execution_count": 12,
     "metadata": {},
     "output_type": "execute_result"
    }
   ],
   "source": [
    "grid_2 = GridSearchCV(make_pipeline(PolynomialFeatures(degree=2), Lasso(alpha=1, random_state=seed)),\n",
    "                    param_grid={'polynomialfeatures__degree': [1, 2, 3, 4],\n",
    "                    'lasso__alpha': [0.01, 0.1, 1, 10]},\n",
    "                    cv=kfold,\n",
    "                    refit=True)\n",
    "grid_2.fit(X, y)\n",
    "grid_2.cv_results_['mean_test_score'].reshape(4, -1)\n",
    "\n",
    "plt.matshow(grid_2.cv_results_['mean_test_score'].reshape(4, -1), vmin=0, cmap=\"viridis\")\n",
    "plt.xlabel(\"elasticnet__alpha\")\n",
    "plt.ylabel(\"polynomialfeatures__degree\")\n",
    "plt.show()\n",
    "grid_2.best_params_"
   ]
  },
  {
   "cell_type": "code",
   "execution_count": 13,
   "metadata": {},
   "outputs": [
    {
     "name": "stderr",
     "output_type": "stream",
     "text": [
      "/opt/miniconda3/envs/env1/lib/python3.12/site-packages/sklearn/linear_model/_ridge.py:250: UserWarning: Singular matrix in solving dual problem. Using least-squares solution instead.\n",
      "  warnings.warn(\n",
      "/opt/miniconda3/envs/env1/lib/python3.12/site-packages/sklearn/linear_model/_ridge.py:250: UserWarning: Singular matrix in solving dual problem. Using least-squares solution instead.\n",
      "  warnings.warn(\n",
      "/opt/miniconda3/envs/env1/lib/python3.12/site-packages/sklearn/linear_model/_ridge.py:250: UserWarning: Singular matrix in solving dual problem. Using least-squares solution instead.\n",
      "  warnings.warn(\n",
      "/opt/miniconda3/envs/env1/lib/python3.12/site-packages/sklearn/linear_model/_ridge.py:250: UserWarning: Singular matrix in solving dual problem. Using least-squares solution instead.\n",
      "  warnings.warn(\n",
      "/opt/miniconda3/envs/env1/lib/python3.12/site-packages/sklearn/linear_model/_ridge.py:250: UserWarning: Singular matrix in solving dual problem. Using least-squares solution instead.\n",
      "  warnings.warn(\n",
      "/opt/miniconda3/envs/env1/lib/python3.12/site-packages/sklearn/linear_model/_ridge.py:250: UserWarning: Singular matrix in solving dual problem. Using least-squares solution instead.\n",
      "  warnings.warn(\n",
      "/opt/miniconda3/envs/env1/lib/python3.12/site-packages/sklearn/linear_model/_ridge.py:250: UserWarning: Singular matrix in solving dual problem. Using least-squares solution instead.\n",
      "  warnings.warn(\n",
      "/opt/miniconda3/envs/env1/lib/python3.12/site-packages/sklearn/linear_model/_ridge.py:250: UserWarning: Singular matrix in solving dual problem. Using least-squares solution instead.\n",
      "  warnings.warn(\n",
      "/opt/miniconda3/envs/env1/lib/python3.12/site-packages/sklearn/linear_model/_ridge.py:250: UserWarning: Singular matrix in solving dual problem. Using least-squares solution instead.\n",
      "  warnings.warn(\n",
      "/opt/miniconda3/envs/env1/lib/python3.12/site-packages/sklearn/linear_model/_ridge.py:250: UserWarning: Singular matrix in solving dual problem. Using least-squares solution instead.\n",
      "  warnings.warn(\n",
      "/opt/miniconda3/envs/env1/lib/python3.12/site-packages/sklearn/linear_model/_ridge.py:250: UserWarning: Singular matrix in solving dual problem. Using least-squares solution instead.\n",
      "  warnings.warn(\n",
      "/opt/miniconda3/envs/env1/lib/python3.12/site-packages/sklearn/linear_model/_ridge.py:250: UserWarning: Singular matrix in solving dual problem. Using least-squares solution instead.\n",
      "  warnings.warn(\n",
      "/opt/miniconda3/envs/env1/lib/python3.12/site-packages/sklearn/linear_model/_ridge.py:250: UserWarning: Singular matrix in solving dual problem. Using least-squares solution instead.\n",
      "  warnings.warn(\n",
      "/opt/miniconda3/envs/env1/lib/python3.12/site-packages/sklearn/linear_model/_ridge.py:250: UserWarning: Singular matrix in solving dual problem. Using least-squares solution instead.\n",
      "  warnings.warn(\n",
      "/opt/miniconda3/envs/env1/lib/python3.12/site-packages/sklearn/linear_model/_ridge.py:250: UserWarning: Singular matrix in solving dual problem. Using least-squares solution instead.\n",
      "  warnings.warn(\n",
      "/opt/miniconda3/envs/env1/lib/python3.12/site-packages/sklearn/linear_model/_ridge.py:250: UserWarning: Singular matrix in solving dual problem. Using least-squares solution instead.\n",
      "  warnings.warn(\n",
      "/opt/miniconda3/envs/env1/lib/python3.12/site-packages/sklearn/linear_model/_ridge.py:250: UserWarning: Singular matrix in solving dual problem. Using least-squares solution instead.\n",
      "  warnings.warn(\n",
      "/opt/miniconda3/envs/env1/lib/python3.12/site-packages/sklearn/linear_model/_ridge.py:250: UserWarning: Singular matrix in solving dual problem. Using least-squares solution instead.\n",
      "  warnings.warn(\n",
      "/opt/miniconda3/envs/env1/lib/python3.12/site-packages/sklearn/linear_model/_ridge.py:250: UserWarning: Singular matrix in solving dual problem. Using least-squares solution instead.\n",
      "  warnings.warn(\n",
      "/opt/miniconda3/envs/env1/lib/python3.12/site-packages/sklearn/linear_model/_ridge.py:250: UserWarning: Singular matrix in solving dual problem. Using least-squares solution instead.\n",
      "  warnings.warn(\n",
      "/opt/miniconda3/envs/env1/lib/python3.12/site-packages/sklearn/linear_model/_ridge.py:250: UserWarning: Singular matrix in solving dual problem. Using least-squares solution instead.\n",
      "  warnings.warn(\n",
      "/opt/miniconda3/envs/env1/lib/python3.12/site-packages/sklearn/linear_model/_ridge.py:250: UserWarning: Singular matrix in solving dual problem. Using least-squares solution instead.\n",
      "  warnings.warn(\n",
      "/opt/miniconda3/envs/env1/lib/python3.12/site-packages/sklearn/linear_model/_ridge.py:250: UserWarning: Singular matrix in solving dual problem. Using least-squares solution instead.\n",
      "  warnings.warn(\n",
      "/opt/miniconda3/envs/env1/lib/python3.12/site-packages/sklearn/linear_model/_ridge.py:250: UserWarning: Singular matrix in solving dual problem. Using least-squares solution instead.\n",
      "  warnings.warn(\n",
      "/opt/miniconda3/envs/env1/lib/python3.12/site-packages/sklearn/linear_model/_ridge.py:250: UserWarning: Singular matrix in solving dual problem. Using least-squares solution instead.\n",
      "  warnings.warn(\n",
      "/opt/miniconda3/envs/env1/lib/python3.12/site-packages/sklearn/linear_model/_ridge.py:250: UserWarning: Singular matrix in solving dual problem. Using least-squares solution instead.\n",
      "  warnings.warn(\n",
      "/opt/miniconda3/envs/env1/lib/python3.12/site-packages/sklearn/linear_model/_ridge.py:250: UserWarning: Singular matrix in solving dual problem. Using least-squares solution instead.\n",
      "  warnings.warn(\n",
      "/opt/miniconda3/envs/env1/lib/python3.12/site-packages/sklearn/linear_model/_ridge.py:250: UserWarning: Singular matrix in solving dual problem. Using least-squares solution instead.\n",
      "  warnings.warn(\n",
      "/opt/miniconda3/envs/env1/lib/python3.12/site-packages/sklearn/linear_model/_ridge.py:250: UserWarning: Singular matrix in solving dual problem. Using least-squares solution instead.\n",
      "  warnings.warn(\n",
      "/opt/miniconda3/envs/env1/lib/python3.12/site-packages/sklearn/linear_model/_ridge.py:250: UserWarning: Singular matrix in solving dual problem. Using least-squares solution instead.\n",
      "  warnings.warn(\n",
      "/opt/miniconda3/envs/env1/lib/python3.12/site-packages/sklearn/linear_model/_ridge.py:250: UserWarning: Singular matrix in solving dual problem. Using least-squares solution instead.\n",
      "  warnings.warn(\n",
      "/opt/miniconda3/envs/env1/lib/python3.12/site-packages/sklearn/linear_model/_ridge.py:250: UserWarning: Singular matrix in solving dual problem. Using least-squares solution instead.\n",
      "  warnings.warn(\n",
      "/opt/miniconda3/envs/env1/lib/python3.12/site-packages/sklearn/linear_model/_ridge.py:250: UserWarning: Singular matrix in solving dual problem. Using least-squares solution instead.\n",
      "  warnings.warn(\n",
      "/opt/miniconda3/envs/env1/lib/python3.12/site-packages/sklearn/linear_model/_ridge.py:250: UserWarning: Singular matrix in solving dual problem. Using least-squares solution instead.\n",
      "  warnings.warn(\n",
      "/opt/miniconda3/envs/env1/lib/python3.12/site-packages/sklearn/linear_model/_ridge.py:250: UserWarning: Singular matrix in solving dual problem. Using least-squares solution instead.\n",
      "  warnings.warn(\n",
      "/opt/miniconda3/envs/env1/lib/python3.12/site-packages/sklearn/linear_model/_ridge.py:250: UserWarning: Singular matrix in solving dual problem. Using least-squares solution instead.\n",
      "  warnings.warn(\n",
      "/opt/miniconda3/envs/env1/lib/python3.12/site-packages/sklearn/linear_model/_ridge.py:250: UserWarning: Singular matrix in solving dual problem. Using least-squares solution instead.\n",
      "  warnings.warn(\n",
      "/opt/miniconda3/envs/env1/lib/python3.12/site-packages/sklearn/linear_model/_ridge.py:250: UserWarning: Singular matrix in solving dual problem. Using least-squares solution instead.\n",
      "  warnings.warn(\n",
      "/opt/miniconda3/envs/env1/lib/python3.12/site-packages/sklearn/linear_model/_ridge.py:250: UserWarning: Singular matrix in solving dual problem. Using least-squares solution instead.\n",
      "  warnings.warn(\n",
      "/opt/miniconda3/envs/env1/lib/python3.12/site-packages/sklearn/linear_model/_ridge.py:250: UserWarning: Singular matrix in solving dual problem. Using least-squares solution instead.\n",
      "  warnings.warn(\n"
     ]
    },
    {
     "data": {
      "image/png": "[encoded data removed]",
      "text/plain": [
       "<Figure size 480x480 with 1 Axes>"
      ]
     },
     "metadata": {},
     "output_type": "display_data"
    },
    {
     "data": {
      "text/plain": [
       "{'polynomialfeatures__degree': 2, 'ridge__alpha': 0.01}"
      ]
     },
     "execution_count": 13,
     "metadata": {},
     "output_type": "execute_result"
    }
   ],
   "source": [
    "grid_3 = GridSearchCV(make_pipeline(PolynomialFeatures(degree=2), Ridge(alpha=1, random_state=seed)),\n",
    "                    param_grid={'polynomialfeatures__degree': [1, 2, 3, 4],\n",
    "                    'ridge__alpha': [0.01, 0.1, 1, 10]},\n",
    "                    cv=kfold,\n",
    "                    refit=True)\n",
    "grid_3.fit(X, y)\n",
    "grid_3.cv_results_['mean_test_score'].reshape(4, -1)\n",
    "\n",
    "plt.matshow(grid_3.cv_results_['mean_test_score'].reshape(4, -1), vmin=0, cmap=\"viridis\")\n",
    "plt.xlabel(\"elasticnet__alpha\")\n",
    "plt.ylabel(\"polynomialfeatures__degree\")\n",
    "plt.show()\n",
    "grid_3.best_params_"
   ]
  },
  {
   "cell_type": "code",
   "execution_count": 16,
   "metadata": {},
   "outputs": [
    {
     "data": {
      "image/png": "[encoded data removed]",
      "text/plain": [
       "<Figure size 400x1200 with 1 Axes>"
      ]
     },
     "metadata": {},
     "output_type": "display_data"
    },
    {
     "data": {
      "text/plain": [
       "{'polynomialfeatures__degree': 2}"
      ]
     },
     "execution_count": 16,
     "metadata": {},
     "output_type": "execute_result"
    }
   ],
   "source": [
    "from sklearn.linear_model import LinearRegression\n",
    "\n",
    "grid_4 = GridSearchCV(make_pipeline(PolynomialFeatures(degree=2), LinearRegression()),\n",
    "                    param_grid={'polynomialfeatures__degree': [1, 2, 3]},\n",
    "                    cv=kfold,\n",
    "                    refit=True)\n",
    "grid_4.fit(X, y)\n",
    "grid_4.cv_results_['mean_test_score'].reshape(3, -1)\n",
    "\n",
    "plt.matshow(grid_4.cv_results_['mean_test_score'].reshape(3, -1), vmin=0, cmap=\"viridis\")\n",
    "plt.xlabel(\"elasticnet__alpha\")\n",
    "plt.ylabel(\"polynomialfeatures__degree\")\n",
    "plt.show()\n",
    "grid_4.best_params_"
   ]
  },
  {
   "cell_type": "code",
   "execution_count": 17,
   "metadata": {},
   "outputs": [
    {
     "name": "stdout",
     "output_type": "stream",
     "text": [
      "ElasticNet\n",
      "R^2: -1.2894183199282097\n",
      "Explained variance score: -1.2715409278403187\n",
      "Median absolute error: 3.515183060025759\n",
      "Mean squared error: 43.18506882697383\n",
      "Mean absolute errors: 4.8297850926686\n",
      "Lasso\n",
      "R^2: -1.3405620930677768\n",
      "Explained variance score: -1.3336502428326416\n",
      "Median absolute error: 3.6534388293894757\n",
      "Mean squared error: 44.14978870532818\n",
      "Mean absolute errors: 4.883117498278234\n",
      "Ridge\n",
      "R^2: -2.0845045745930557\n",
      "Explained variance score: -1.8561486257890474\n",
      "Median absolute error: 2.6224544852005014\n",
      "Mean squared error: 58.182701340091356\n",
      "Mean absolute errors: 4.9101849835512\n",
      "LR\n",
      "R^2: -3.841594041936906\n",
      "Explained variance score: -2.783637136362273\n",
      "Median absolute error: 3.3125733971595768\n",
      "Mean squared error: 91.32650425365168\n",
      "Mean absolute errors: 6.162484204292298\n"
     ]
    }
   ],
   "source": [
    "from sklearn import  metrics\n",
    "\n",
    "X_test=boston_X_test\n",
    "y_test=boston_y_test\n",
    "\n",
    "models = []\n",
    "models.append(('ElasticNet', grid_1.best_estimator_))\n",
    "models.append(('Lasso', grid_2.best_estimator_))\n",
    "models.append(('Ridge', grid_3.best_estimator_))\n",
    "models.append(('LR', grid_4.best_estimator_))\n",
    "\n",
    "r2 = []\n",
    "explained_variance_score = []\n",
    "median_absolute_error = []\n",
    "mean_squared_error = []\n",
    "mean_absolute_error = []\n",
    "for name, model in models:\n",
    "    print(name)\n",
    "    print(\"R^2: {}\".format(metrics.r2_score(y_test, model.predict(X_test)) ))\n",
    "    print(\"Explained variance score: {}\".format( metrics.explained_variance_score(y_test, model.predict(X_test)) ))\n",
    "    print(\"Median absolute error: {}\".format( metrics.median_absolute_error(y_test, model.predict(X_test)) ))\n",
    "    print(\"Mean squared error: {}\".format( metrics.mean_squared_error(y_test, model.predict(X_test)) ))\n",
    "    print(\"Mean absolute errors: {}\".format(metrics.mean_absolute_error(y_test, model.predict(X_test)) ))\n",
    "    r2.append(metrics.r2_score(y_test, model.predict(X_test)))\n",
    "    explained_variance_score.append(metrics.explained_variance_score(y_test, model.predict(X_test)))\n",
    "    median_absolute_error.append( metrics.median_absolute_error(y_test, model.predict(X_test)))\n",
    "    mean_squared_error.append(metrics.mean_squared_error(y_test, model.predict(X_test)))\n",
    "    mean_absolute_error.append(metrics.mean_absolute_error(y_test, model.predict(X_test)))"
   ]
  },
  {
   "cell_type": "code",
   "execution_count": 19,
   "metadata": {},
   "outputs": [
    {
     "data": {
      "text/html": [
       "<div>\n",
       "<style scoped>\n",
       "    .dataframe tbody tr th:only-of-type {\n",
       "        vertical-align: middle;\n",
       "    }\n",
       "\n",
       "    .dataframe tbody tr th {\n",
       "        vertical-align: top;\n",
       "    }\n",
       "\n",
       "    .dataframe thead th {\n",
       "        text-align: right;\n",
       "    }\n",
       "</style>\n",
       "<table border=\"1\" class=\"dataframe\">\n",
       "  <thead>\n",
       "    <tr style=\"text-align: right;\">\n",
       "      <th></th>\n",
       "      <th>Method</th>\n",
       "      <th>r2</th>\n",
       "      <th>explained_variance_score</th>\n",
       "      <th>median_absolute_error</th>\n",
       "      <th>mean_squared_error</th>\n",
       "      <th>mean_absolute_error</th>\n",
       "    </tr>\n",
       "  </thead>\n",
       "  <tbody>\n",
       "    <tr>\n",
       "      <th>0</th>\n",
       "      <td>ElasticNet</td>\n",
       "      <td>-1.289418</td>\n",
       "      <td>-1.271541</td>\n",
       "      <td>3.515183</td>\n",
       "      <td>43.185069</td>\n",
       "      <td>4.829785</td>\n",
       "    </tr>\n",
       "    <tr>\n",
       "      <th>1</th>\n",
       "      <td>Lasso</td>\n",
       "      <td>-1.340562</td>\n",
       "      <td>-1.333650</td>\n",
       "      <td>3.653439</td>\n",
       "      <td>44.149789</td>\n",
       "      <td>4.883117</td>\n",
       "    </tr>\n",
       "    <tr>\n",
       "      <th>2</th>\n",
       "      <td>Ridge</td>\n",
       "      <td>-2.084505</td>\n",
       "      <td>-1.856149</td>\n",
       "      <td>2.622454</td>\n",
       "      <td>58.182701</td>\n",
       "      <td>4.910185</td>\n",
       "    </tr>\n",
       "    <tr>\n",
       "      <th>3</th>\n",
       "      <td>LR</td>\n",
       "      <td>-3.841594</td>\n",
       "      <td>-2.783637</td>\n",
       "      <td>3.312573</td>\n",
       "      <td>91.326504</td>\n",
       "      <td>6.162484</td>\n",
       "    </tr>\n",
       "  </tbody>\n",
       "</table>\n",
       "</div>"
      ],
      "text/plain": [
       "       Method        r2  explained_variance_score  median_absolute_error  \\\n",
       "0  ElasticNet -1.289418                 -1.271541               3.515183   \n",
       "1       Lasso -1.340562                 -1.333650               3.653439   \n",
       "2       Ridge -2.084505                 -1.856149               2.622454   \n",
       "3          LR -3.841594                 -2.783637               3.312573   \n",
       "\n",
       "   mean_squared_error  mean_absolute_error  \n",
       "0           43.185069             4.829785  \n",
       "1           44.149789             4.883117  \n",
       "2           58.182701             4.910185  \n",
       "3           91.326504             6.162484  "
      ]
     },
     "execution_count": 19,
     "metadata": {},
     "output_type": "execute_result"
    }
   ],
   "source": [
    "import pandas as pd\n",
    "d = {'r2': r2, \n",
    "     'explained_variance_score': explained_variance_score, \n",
    "     'median_absolute_error': median_absolute_error,\n",
    "     'mean_squared_error' : mean_squared_error,\n",
    "     'mean_absolute_error' : mean_absolute_error,\n",
    "    }\n",
    "df = pd.DataFrame(data=d)\n",
    "df.insert(loc=0, column='Method', value=['ElasticNet','Lasso','Ridge','LR'])\n",
    "df"
   ]
  }
 ],
 "metadata": {
  "kernelspec": {
   "display_name": "Python 3 (ipykernel)",
   "language": "python",
   "name": "python3"
  },
  "language_info": {
   "codemirror_mode": {
    "name": "ipython",
    "version": 3
   },
   "file_extension": ".py",
   "mimetype": "text/x-python",
   "name": "python",
   "nbconvert_exporter": "python",
   "pygments_lexer": "ipython3",
   "version": "3.12.2"
  }
 },
 "nbformat": 4,
 "nbformat_minor": 4
}
